{
 "cells": [
  {
   "cell_type": "code",
   "execution_count": 1,
   "metadata": {},
   "outputs": [],
   "source": [
    "from newspaper import Article"
   ]
  },
  {
   "cell_type": "code",
   "execution_count": 44,
   "metadata": {},
   "outputs": [],
   "source": [
    "from bs4 import BeautifulSoup\n",
    "import requests\n",
    "import csv\n",
    "import time\n"
   ]
  },
  {
   "cell_type": "code",
   "execution_count": 13,
   "metadata": {},
   "outputs": [],
   "source": [
    "economy_url = 'https://www.washingtonpost.com/economy/?itid=nb_front_business_economy'"
   ]
  },
  {
   "cell_type": "code",
   "execution_count": 14,
   "metadata": {},
   "outputs": [],
   "source": [
    "soup = BeautifulSoup(requests.get(economy_url).content, 'html.parser') "
   ]
  },
  {
   "cell_type": "code",
   "execution_count": 34,
   "metadata": {},
   "outputs": [],
   "source": [
    "links_economy = []\n",
    "for link in soup.find_all('h2'):\n",
    "    article = link.find_all('a')\n",
    "    links_economy.append(article[0]['href'])"
   ]
  },
  {
   "cell_type": "code",
   "execution_count": 36,
   "metadata": {},
   "outputs": [],
   "source": [
    "movies_url = 'https://www.washingtonpost.com/goingoutguide/movies/?itid=nb_hp_entertainment_movies'\n",
    "soup = BeautifulSoup(requests.get(movies_url).content, 'html.parser') \n",
    "links_movies = []\n",
    "for link in soup.find_all('h2'):\n",
    "    article = link.find_all('a')\n",
    "    links_movies.append(article[0]['href'])"
   ]
  },
  {
   "cell_type": "code",
   "execution_count": 37,
   "metadata": {},
   "outputs": [],
   "source": [
    "white_house_url = 'https://www.washingtonpost.com/politics/white-house/?itid=nb_hp_politics_white-house'\n",
    "soup = BeautifulSoup(requests.get(white_house_url).content, 'html.parser') \n",
    "links_wh = []\n",
    "for link in soup.find_all('h2'):\n",
    "    article = link.find_all('a')\n",
    "    links_wh.append(article[0]['href'])"
   ]
  },
  {
   "cell_type": "code",
   "execution_count": 39,
   "metadata": {},
   "outputs": [],
   "source": [
    "opinions_url = 'https://www.washingtonpost.com/opinions/the-posts-view/?itid=nb_opinions_the-post%27s-view'\n",
    "soup = BeautifulSoup(requests.get(opinions_url).content, 'html.parser') \n",
    "links_opinions = []\n",
    "for link in soup.find_all('h2'):\n",
    "    article = link.find_all('a')\n",
    "    links_opinions.append(article[0]['href'])"
   ]
  },
  {
   "cell_type": "code",
   "execution_count": 42,
   "metadata": {},
   "outputs": [],
   "source": [
    "all_links = links_economy + links_movies + links_wh + links_opinions"
   ]
  },
  {
   "cell_type": "code",
   "execution_count": 45,
   "metadata": {},
   "outputs": [],
   "source": [
    "contents = []\n",
    "for each in all_links:\n",
    "    article = Article(each)\n",
    "    article.download()\n",
    "    article.parse()\n",
    "    contents.append(article.text)\n",
    "    time.sleep(5)"
   ]
  },
  {
   "cell_type": "code",
   "execution_count": 48,
   "metadata": {},
   "outputs": [],
   "source": [
    "import csv\n",
    "with open ('contents.csv','w') as file:\n",
    "    wr = csv.writer(file)\n",
    "    wr.writerow(contents)\n"
   ]
  },
  {
   "cell_type": "code",
   "execution_count": 56,
   "metadata": {},
   "outputs": [],
   "source": [
    "categories = ['economy','movies','whitehouse','opinions']"
   ]
  },
  {
   "cell_type": "code",
   "execution_count": 60,
   "metadata": {},
   "outputs": [],
   "source": [
    "topics = []\n",
    "for each in categories:\n",
    "    for _ in range(20):\n",
    "        topics.append(each)"
   ]
  },
  {
   "cell_type": "code",
   "execution_count": 103,
   "metadata": {},
   "outputs": [],
   "source": [
    "titles = []\n",
    "for each in all_links:\n",
    "    article = Article(each)\n",
    "    article.download()\n",
    "    article.parse()\n",
    "    titles.append(article.title)\n",
    "    time.sleep(1)"
   ]
  },
  {
   "cell_type": "code",
   "execution_count": 105,
   "metadata": {},
   "outputs": [],
   "source": [
    "import csv\n",
    "with open ('titles.csv','w') as file:\n",
    "    wr = csv.writer(file)\n",
    "    wr.writerow(titles)\n"
   ]
  },
  {
   "cell_type": "code",
   "execution_count": 106,
   "metadata": {},
   "outputs": [],
   "source": [
    "N = 80\n",
    "from mitie import *\n"
   ]
  },
  {
   "cell_type": "code",
   "execution_count": 107,
   "metadata": {},
   "outputs": [],
   "source": [
    "corpus = contents\n",
    "topics_array = topics\n",
    "titles_array = titles"
   ]
  },
  {
   "cell_type": "code",
   "execution_count": 114,
   "metadata": {},
   "outputs": [],
   "source": [
    "from sklearn.feature_extraction.text import TfidfVectorizer\n",
    "vect = TfidfVectorizer(sublinear_tf=True, max_df=0.5, analyzer='word', stop_words='english', vocabulary=entity_text_array)\n",
    "corpus_tf_idf = vect.fit_transform(corpus)"
   ]
  },
  {
   "cell_type": "code",
   "execution_count": 115,
   "metadata": {},
   "outputs": [
    {
     "data": {
      "text/plain": [
       "<80x9445 sparse matrix of type '<class 'numpy.float64'>'\n",
       "\twith 26785 stored elements in Compressed Sparse Row format>"
      ]
     },
     "execution_count": 115,
     "metadata": {},
     "output_type": "execute_result"
    }
   ],
   "source": [
    "corpus_tf_idf"
   ]
  },
  {
   "cell_type": "code",
   "execution_count": 136,
   "metadata": {},
   "outputs": [
    {
     "data": {
      "text/plain": [
       "SpectralClustering(affinity='nearest_neighbors', assign_labels='kmeans',\n",
       "          coef0=1, degree=3, eigen_solver='arpack', eigen_tol=0.0,\n",
       "          gamma=1.0, kernel_params=None, n_clusters=4, n_init=10,\n",
       "          n_jobs=None, n_neighbors=10, random_state=None)"
      ]
     },
     "execution_count": 136,
     "metadata": {},
     "output_type": "execute_result"
    }
   ],
   "source": [
    "from sklearn import cluster\n",
    "# change n_clusters to equal the number of clusters desired n_clusters = 7\n",
    "n_clusters = 4\n",
    "n_components = n_clusters\n",
    "#spectral clustering\n",
    "spectral = cluster.SpectralClustering(n_clusters= n_clusters, eigen_solver='arpack',affinity=\"nearest_neighbors\", n_neighbors = 10)\n",
    "spectral.fit(corpus_tf_idf)"
   ]
  },
  {
   "cell_type": "code",
   "execution_count": 137,
   "metadata": {},
   "outputs": [],
   "source": [
    "import numpy as np"
   ]
  },
  {
   "cell_type": "code",
   "execution_count": 138,
   "metadata": {},
   "outputs": [
    {
     "name": "stdout",
     "output_type": "stream",
     "text": [
      "0 economy 1 Over 33 million Americans lost their job during the pandemic. 77 percent believe they’ll get it back, Post-Ipsos poll finds.\n",
      "1 economy 3 How to push back against meetings outside office hours\n",
      "2 economy 1 U.S. stocks pare losses to pull out small gains\n",
      "3 economy 1 Dow falls more than 600 points as tech and energy sectors fuel Wall Street retreat\n",
      "4 economy 1 3.8 million Americans sought jobless benefits last week, extending pandemic’s grip on the national workforce\n",
      "5 economy 1 Socialism for investors, capitalism for everyone else\n",
      "6 economy 1 Federal Reserve to offer ‘Main Street loans’ for businesses with up to 15,000 employees\n",
      "7 economy 3 White House, Congress have not given any hazard pay to the medical workers they call heroes\n",
      "8 economy 1 Fed chair warns of ‘heartbreaking’ scenario as U.S. economy suffers worst first quarter since Great Recession\n",
      "9 economy 1 FAQ: Going back to work\n",
      "10 economy 1 The Federal Reserve has pumped $2.3 trillion into the U.S. economy. It’s just getting started.\n",
      "11 economy 3 Push to reopen economy runs up against workers and consumers worried about risk\n",
      "12 economy 1 Stock market rebounds while unemployment spikes, showing reach and limits of Fed’s muscle\n",
      "13 economy 3 The only way to get back to normal this summer is to test everyone in the United States, Nobel Prize-winning economist says\n",
      "14 economy 1 Facebook launches Zoom video-conferencing competitor, with built-in special effects\n",
      "15 economy 1 Dow ekes out gains on surging oil prices as investors look past grim jobs numbers\n",
      "16 economy 1 Technology shares lift stocks to a late-day surge\n",
      "17 economy 3 Leading Republicans want to send China the bill for coronavirus pandemic’s costs\n",
      "18 economy 3 Trump administration considers leveraging emergency coronavirus loan to force Postal Service changes\n",
      "19 economy 1 4.4 million Americans sought jobless benefits last week, as economic pain continued across the United States\n",
      "20 movies 2 'Spaceship Earth' review: Documentary looks at the history of Biosphere 2.\n",
      "21 movies 2 'How to Build a Girl' review:\n",
      "22 movies 2 What to watch with your kids: ‘Absurd Planet,’ ‘The Half of It’ and more\n",
      "23 movies 2 New movies to stream this week: ‘Deerskin,’ ‘Capital in the Twenty-First Century’ and more\n",
      "24 movies 2 'The Infiltrators' review: A documentary-thriller hybrid tells the story of undocumented activists who infiltrated an ICE facility.\n",
      "25 movies 2 'The Half of It' review: 'Cyrano de Bergerac' gets a contemporary refresh in this teen coming-of-age story.\n",
      "26 movies 2 New movies to stream this week: ‘Extraction,’ ‘Driveways’ and more\n",
      "27 movies 2 'Beastie Boys Story' review:\n",
      "28 movies 2 What to watch with your kids: ‘Trolls World Tour,’ ‘The Main Event’ and more\n",
      "29 movies 2 'Selah and the Spades' review: Amazon reframes the teen comedy with the tale of a high school Queen Bee.\n",
      "30 movies 2 What to watch with your kids: ‘Strike,’ ‘Shaun the Sheep: Adventures From Mossy Bottom’ and more\n",
      "31 movies 2 'The Times of Bill Cunningham' review: Documentary looks back fondly on the late photographer of New York street fashion.\n",
      "32 movies 2 What to watch with your kids: ‘Dolphin Reef,’ ‘The Letter for the King’ and more\n",
      "33 movies 2 'Never Rarely Sometimes Always' review: Abortion drama captures the messy complexities of its subject, in excruciating fashion.\n",
      "34 movies 2 'Sorry We Missed You' review: A driver for a package delivery service struggles to get by in Ken Loach's latest film.\n",
      "35 movies 2 Classic sports movies to stream with your kids: ‘The Sandlot,’ ‘Hoop Dreams’ and more\n",
      "36 movies 2 'The Whistlers' review: From Romanian director Corneliu Porumboiu, an ction thriller rich in deeper meaning.\n",
      "37 movies 2 10 movies to watch while you’re at home during your coronavirus self-quarantine\n",
      "38 movies 2 ‘Frozen II,’ ‘Spies in Disguise’ and other movies to watch while cooped up at home with your kids\n",
      "39 movies 2 'Blow the Man Down' movie review: A clever slice of regional noir\n",
      "40 whitehouse 0 Here’s what’s happened to the people prosecuted by Robert Mueller’s team\n",
      "41 whitehouse 0 Barr and the DOJ's Michael Flynn decision is familiar\n",
      "42 whitehouse 0 Tara Reade’s sexual assault allegation against Joe Biden, explained\n",
      "43 whitehouse 0 Justice Dept. moves to drop case against Michael Flynn, former Trump adviser who pleaded guilty to lying to the FBI\n",
      "44 whitehouse 3 Trump labels Americans as ‘warriors’ in risky push to reopen amid pandemic\n",
      "45 whitehouse 0 Trump administration asks Supreme Court to stop release of Mueller material\n",
      "46 whitehouse 3 The White House said it was following health experts’ advice. Then we learned it isn’t approving a key CDC document.\n",
      "47 whitehouse 3 The Daily 202: Five moves signal Trump’s attention is moving beyond the coronavirus crisis\n",
      "48 whitehouse 3 The sharp hypocrisy of the White House position on testing\n",
      "49 whitehouse 3 Timeline: Trump's coronavirus statements\n",
      "50 whitehouse 3 The Energy 202: A Harvard study tying coronavirus death rates to pollution is causing an uproar in Washington\n",
      "51 whitehouse 3 The Health 202: Nursing home residents may account for one-half of all U.S. coronavirus deaths\n",
      "52 whitehouse 3 When Trump covered for China’s alleged coronavirus coverup\n",
      "53 whitehouse 3 Power Up: Black and Hispanic Americans are getting laid off at higher rates than white workers.\n",
      "54 whitehouse 0 Understanding the twists and turns in the Michael Flynn case\n",
      "55 whitehouse 3 Top Republican fundraiser and Trump ally named postmaster general, giving president new influence over Postal Service\n",
      "56 whitehouse 3 Democrats’ hold on House seat in jeopardy as coronavirus complicates vote in California\n",
      "57 whitehouse 3 Trump, reversing course, says coronavirus task force will continue ‘indefinitely’\n",
      "58 whitehouse 3 Kayleigh McEnany’s slippery defense of saying coronavirus will not ‘come here’\n",
      "59 whitehouse 3 Trump vetoes congressional resolution limiting his military authority against Iran\n",
      "60 opinions 3 The U.S. needs an army of workers to reopen. These senators have an idea for getting it.\n",
      "61 opinions 3 Congress needs to rescue FISA from legal limbo\n",
      "62 opinions 0 In Ahmaud Arbery killing, why is Georgia only now seeking justice? We know the terrible answers.\n",
      "63 opinions 3 Shady Habash dies in Egypt as the government keeps imprisoning more dissidents\n",
      "64 opinions 3 Trump is ignoring his former covid-19 strategy. The consequences could be tragic.\n",
      "65 opinions 3 A better way for Congress to work during the pandemic\n",
      "66 opinions 3 Obamacare’s contraception mandate is in peril again — yet still as fair as ever\n",
      "67 opinions 3 Speed is essential in developing this vaccine. But so is safety.\n",
      "68 opinions 3 The U.N.?s neglect of cholera victims in Haiti betrays its mission\n",
      "69 opinions 0 The MH17 evidence points to Russia. How much longer will Putin deny it?\n",
      "70 opinions 3 Congress, don’t cripple front-line governments as they fight for us\n",
      "71 opinions 3 What this year’s election campaign will look like online\n",
      "72 opinions 3 Mitch McConnell should not use this crisis to advance his ‘tort reform’ agenda\n",
      "73 opinions 0 Judges must not kill Congress’s power to investigate the president\n",
      "74 opinions 3 Religious institutions shouldn’t use the Constitution to ignore CDC safeguards\n",
      "75 opinions 3 The path to reopening is clear. Our national strategy is not.\n",
      "76 opinions 1 Yes, we should worry about federal aid being misused. But the fate of our economy is at stake.\n",
      "77 opinions 3 This World Press Freedom Day, remember the journalists jailed or killed for doing their jobs\n",
      "78 opinions 3 Trump values pomp more than the lives of the cadets he’s dragging back to West Point\n",
      "79 opinions 3 El Salvador’s president is using covid-19 as an excuse to abuse his power\n"
     ]
    }
   ],
   "source": [
    "if hasattr(spectral, 'labels_'):\n",
    "    cluster_assignments = spectral.labels_.astype(np.int)\n",
    "for i in range(0, len(cluster_assignments)):\n",
    "    print (i, topics_array[i], cluster_assignments [i], titles_array[i])"
   ]
  },
  {
   "cell_type": "code",
   "execution_count": 139,
   "metadata": {},
   "outputs": [
    {
     "data": {
      "text/plain": [
       "array([1, 3, 1, 1, 1, 1, 1, 3, 1, 1, 1, 3, 1, 3, 1, 1, 1, 3, 3, 1, 2, 2,\n",
       "       2, 2, 2, 2, 2, 2, 2, 2, 2, 2, 2, 2, 2, 2, 2, 2, 2, 2, 0, 0, 0, 0,\n",
       "       3, 0, 3, 3, 3, 3, 3, 3, 3, 3, 0, 3, 3, 3, 3, 3, 3, 3, 0, 3, 3, 3,\n",
       "       3, 3, 3, 0, 3, 3, 3, 0, 3, 3, 1, 3, 3, 3])"
      ]
     },
     "execution_count": 139,
     "metadata": {},
     "output_type": "execute_result"
    }
   ],
   "source": [
    "cluster_assignments"
   ]
  },
  {
   "cell_type": "code",
   "execution_count": 140,
   "metadata": {},
   "outputs": [],
   "source": [
    "new = np.array([0]*20+[1]*20+[2]*20+[3]*20)"
   ]
  },
  {
   "cell_type": "code",
   "execution_count": 135,
   "metadata": {},
   "outputs": [
    {
     "data": {
      "text/plain": [
       "array([0, 0, 0, 0, 0, 0, 0, 0, 0, 0, 0, 0, 0, 0, 0, 0, 0, 0, 0, 0, 1, 1,\n",
       "       1, 1, 1, 1, 1, 1, 1, 1, 1, 1, 1, 1, 1, 1, 1, 1, 1, 1, 2, 2, 2, 2,\n",
       "       2, 2, 2, 2, 2, 2, 2, 2, 2, 2, 2, 2, 2, 2, 2, 2, 3, 3, 3, 3, 3, 3,\n",
       "       3, 3, 3, 3, 3, 3, 3, 3, 3, 3, 3, 3, 3, 3])"
      ]
     },
     "execution_count": 135,
     "metadata": {},
     "output_type": "execute_result"
    }
   ],
   "source": [
    "new"
   ]
  },
  {
   "cell_type": "code",
   "execution_count": 129,
   "metadata": {},
   "outputs": [],
   "source": [
    "cluser_assignments = new"
   ]
  },
  {
   "cell_type": "code",
   "execution_count": null,
   "metadata": {},
   "outputs": [],
   "source": []
  }
 ],
 "metadata": {
  "kernelspec": {
   "display_name": "Python 3",
   "language": "python",
   "name": "python3"
  },
  "language_info": {
   "codemirror_mode": {
    "name": "ipython",
    "version": 3
   },
   "file_extension": ".py",
   "mimetype": "text/x-python",
   "name": "python",
   "nbconvert_exporter": "python",
   "pygments_lexer": "ipython3",
   "version": "3.7.3"
  }
 },
 "nbformat": 4,
 "nbformat_minor": 2
}
